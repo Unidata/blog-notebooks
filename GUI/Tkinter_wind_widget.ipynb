{
 "cells": [
  {
   "cell_type": "code",
   "execution_count": 2,
   "metadata": {
    "collapsed": false
   },
   "outputs": [],
   "source": [
    "from tkinter import *\n",
    "from metpy.calc import *\n",
    "from metpy.units import units"
   ]
  },
  {
   "cell_type": "code",
   "execution_count": 3,
   "metadata": {
    "collapsed": true
   },
   "outputs": [],
   "source": [
    "class windcalc:\n",
    "    \n",
    "    def __init__(self, master):\n",
    "        \n",
    "        master.title('Wind Calculations')\n",
    "        self.outer_frame = Frame(master)\n",
    "        self.outer_frame.pack()\n",
    "\n",
    "        self.inner_frame1 = Frame(self.outer_frame)\n",
    "        self.inner_frame1.pack(side=LEFT)\n",
    "\n",
    "        # Set up frame for wind speed input\n",
    "        self.windsp = LabelFrame(self.inner_frame1, text='Wind Speed', bg='lightblue', height=100, width=210)\n",
    "        self.windsp.pack()\n",
    "        self.windsp.pack_propagate(0)\n",
    "        self.windsp_slider = Scale(self.windsp, from_=0, to=30, orient=HORIZONTAL, command=self.calc, length=180)\n",
    "        self.windsp_slider.set(15)\n",
    "        self.windsp_slider.place(relx=.5, rely=.5, anchor='center')\n",
    "\n",
    "        # Set up frame for wind direction input\n",
    "        self.winddir = LabelFrame(self.inner_frame1, text='Wind Direction', bg='lightblue', height=100, width=210)\n",
    "        self.winddir.pack()\n",
    "        self.winddir.pack_propagate(0)\n",
    "        self.winddir_slider = Scale(self.winddir, from_=0, to=360, orient=HORIZONTAL, command=self.calc, length=180)\n",
    "        self.winddir_slider.set(180)\n",
    "        self.winddir_slider.place(relx=.5, rely=.5, anchor='center')\n",
    "\n",
    "        # Set up frame for temperature input\n",
    "        self.temperature = LabelFrame(self.inner_frame1, text='Temperature', bg='lightblue', height=100, width=210)\n",
    "        self.temperature.pack()\n",
    "        self.temperature.pack_propagate(0)\n",
    "        self.temperature_slider = Scale(self.temperature, from_=-20, to=60, orient=HORIZONTAL, command=self.calc, length=180)\n",
    "        self.temperature_slider.set(20)\n",
    "        self.temperature_slider.place(relx=.5, rely=.5, anchor='center')\n",
    "\n",
    "        # Set up frame to put all output sections into\n",
    "        self.inner_frame2 = Frame(self.outer_frame)\n",
    "        self.inner_frame2.pack(side=RIGHT)\n",
    "\n",
    "        # Set up frame for u-comp output\n",
    "        self.ucomp = LabelFrame(self.inner_frame2, bg='lightgreen', text='U Component of Wind', height=100, width=210)\n",
    "        self.ucomp.pack()\n",
    "        self.ucomp.pack_propagate(0)\n",
    "        self.ucomp_text = StringVar()\n",
    "        self.ucomp_label = Label(self.ucomp, textvariable=self.ucomp_text, bg='lightgreen')\n",
    "        self.ucomp_label.place(relx=.5, rely=.5, anchor='center')\n",
    "        \n",
    "        # Set up frame for v-comp output\n",
    "        self.vcomp = LabelFrame(self.inner_frame2, bg='lightgreen', text='V Component of Wind', height=100, width=210)\n",
    "        self.vcomp.pack()\n",
    "        self.vcomp.pack_propagate(0)\n",
    "        self.vcomp_text = StringVar()\n",
    "        self.vcomp_label = Label(self.vcomp, textvariable=self.vcomp_text, bg='lightgreen')\n",
    "        self.vcomp_label.place(relx=.5, rely=.5, anchor='center')\n",
    "\n",
    "        # Set up frame for wind chill output\n",
    "        self.windchill = LabelFrame(self.inner_frame2, bg='lightgreen', text='Windchill', height=100, width=210)\n",
    "        self.windchill.pack()\n",
    "        self.windchill.pack_propagate(0)\n",
    "        self.windchill_text = StringVar()\n",
    "        self.windchill_label = Label(self.windchill, textvariable=self.windchill_text, bg='lightgreen')\n",
    "        self.windchill_label.place(relx=.5, rely=.5, anchor='center')\n",
    "\n",
    "        \n",
    "    def calc(self, value=0):\n",
    "        result = self.windcalcs(self.windsp_slider.get(), self.winddir_slider.get(), self.temperature_slider.get())\n",
    "        return result\n",
    "        \n",
    "    def windcalcs(self, windsp, winddir, temperature):\n",
    "        # calculate u and v components of the wind\n",
    "        u, v = wind_components(windsp * units('m/s'), winddir)\n",
    "        self.ucomp_text.set('{0:.2f}'.format(u))\n",
    "        self.vcomp_text.set('{0:.2f}'.format(v))\n",
    "        # Calculate the wind chill\n",
    "        if windsp > 3 and temperature <= 50:        \n",
    "            wc = windchill(temperature * units.degF, windsp * units('m/s'), face_level_winds=True).to('degF')\n",
    "            self.windchill_text.set('{0:.2f}'.format(wc))\n",
    "        else:\n",
    "            self.windchill_text.set('N/A')"
   ]
  },
  {
   "cell_type": "code",
   "execution_count": 4,
   "metadata": {
    "collapsed": false
   },
   "outputs": [],
   "source": [
    "root = Tk()\n",
    "root.geometry(\"400x300\")\n",
    "app = windcalc(root)\n",
    "root.mainloop()"
   ]
  }
 ],
 "metadata": {
  "kernelspec": {
   "display_name": "Python 3",
   "language": "python",
   "name": "python3"
  },
  "language_info": {
   "codemirror_mode": {
    "name": "ipython",
    "version": 3
   },
   "file_extension": ".py",
   "mimetype": "text/x-python",
   "name": "python",
   "nbconvert_exporter": "python",
   "pygments_lexer": "ipython3",
   "version": "3.5.1"
  }
 },
 "nbformat": 4,
 "nbformat_minor": 0
}

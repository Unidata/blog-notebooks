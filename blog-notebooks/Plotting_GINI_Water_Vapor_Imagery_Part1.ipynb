{
 "cells": [
  {
   "cell_type": "markdown",
   "metadata": {},
   "source": [
    "This is the first of what we hope will be a series of posts showing how to use Python for weather analysis and create graphics for a variety of purposes. In this two-part post, we demonstrate plotting a water vapor satellite image, specifically using GINI formatted data. GINI is the format currently used for satellite data transmitted across NOAAPORT, and is available on Unidata's [demonstration THREDDS server](http://thredds.ucar.edu/thredds/]). This first part focuses on accessing the data using [Siphon](http://siphon.readthedocs.org) and [MetPy](http://metpy.readthedocs.org); the second part will introduce plotting using [CartoPy](http://scitools.org.uk/cartopy/). To whet your appetite, though, here is a sample of what we'd like to produce:\n",
    "![Water Vapor Sample Image](../images/wv-sample.png)"
   ]
  },
  {
   "cell_type": "markdown",
   "metadata": {},
   "source": [
    "If you'd like to follow along at home, this post is available as a Jupyter [notebook](https://github.com/unidata/blog-notebooks). The [README](https://github.com/unidata/blog-notebooks) file there has instructions on how to set up a Python environment and run the notebooks we'll be creating for these and future posts."
   ]
  },
  {
   "cell_type": "markdown",
   "metadata": {},
   "source": [
    "## Getting the data file"
   ]
  },
  {
   "cell_type": "markdown",
   "metadata": {},
   "source": [
    "The first step is to find the satellite data. If we browse over to http://thredds.ucar.edu/thredds/, we're presented with the top-level [TDS](https://www.unidata.ucar.edu/software/thredds/current/tds/TDS.html) catalog; this has a helpful looking link that says \"Satellite Data\". Navigating here, we see a large collection of different satellite datasets. We're interested in looking at water vapor imagery, so the \"Water Vapor (6.5 / 5.7 um)\" link seems most useful. We'll dig further in by navigating into \"EAST-CONUS_4km\" and then \"current\", so that we can look at current full CONUS (CONtiguous US) images from GOES East."
   ]
  },
  {
   "cell_type": "markdown",
   "metadata": {},
   "source": [
    "Here, we find a large listing of individual files. We could manually download a file and open it, but:\n",
    "1. That's no fun whatsoever\n",
    "2. It means we'd have to go through the same manual process to get data tomorrow\n",
    "\n",
    "Instead, Python to the rescue! We can use Unidata's Siphon package to parse the catalog from the TDS; this provides us a nice programmatic way of accesssing the data. So we start by importing the `TDSCatalog` class from siphon and giving it the URL to the catalog we just surfed to manually.\n",
    "\n",
    "**Note:** Instead of giving it the link to the HTML catalog, we change the extension to XML, which asks the TDS for the XML version of the catalog. This is much better to work with in code."
   ]
  },
  {
   "cell_type": "code",
   "execution_count": 1,
   "metadata": {
    "collapsed": true
   },
   "outputs": [],
   "source": [
    "from siphon.catalog import TDSCatalog\n",
    "cat = TDSCatalog('http://thredds.ucar.edu/thredds/catalog/satellite/WV/EAST-CONUS_4km/current/catalog.xml')"
   ]
  },
  {
   "cell_type": "markdown",
   "metadata": {},
   "source": [
    "From this `TDSCatalog` object we now have (`cat`), and we want to get the latest file. To find the latest file, we can look at the `cat.datasets` attribute. This is a Python dictionary, mapping the name of the dataset to a Python Dataset object (which came from more XML supplied by the TDS &mdash; notice a theme?) Since this is a dictionary, we can look at a list of the keys (or actually, just the first 5):"
   ]
  },
  {
   "cell_type": "code",
   "execution_count": 2,
   "metadata": {
    "collapsed": false
   },
   "outputs": [
    {
     "data": {
      "text/plain": [
       "['EAST-CONUS_4km_WV_20160128_0530.gini',\n",
       " 'EAST-CONUS_4km_WV_20160128_1930.gini',\n",
       " 'EAST-CONUS_4km_WV_20160128_1715.gini',\n",
       " 'EAST-CONUS_4km_WV_20160128_2015.gini',\n",
       " 'EAST-CONUS_4km_WV_20160128_0115.gini']"
      ]
     },
     "execution_count": 2,
     "metadata": {},
     "output_type": "execute_result"
    }
   ],
   "source": [
    "list(cat.datasets)[:5]"
   ]
  },
  {
   "cell_type": "markdown",
   "metadata": {},
   "source": [
    "While we have the names of some GINI files, they're all jumbled and not in any kind of order. Fortunately, they're named appropriately so that sorting the names will yield a list in chronological order:"
   ]
  },
  {
   "cell_type": "code",
   "execution_count": 3,
   "metadata": {
    "collapsed": false
   },
   "outputs": [
    {
     "data": {
      "text/plain": [
       "['EAST-CONUS_4km_WV_20160127_1845.gini',\n",
       " 'EAST-CONUS_4km_WV_20160127_1900.gini',\n",
       " 'EAST-CONUS_4km_WV_20160127_1915.gini',\n",
       " 'EAST-CONUS_4km_WV_20160127_1930.gini',\n",
       " 'EAST-CONUS_4km_WV_20160127_1945.gini']"
      ]
     },
     "execution_count": 3,
     "metadata": {},
     "output_type": "execute_result"
    }
   ],
   "source": [
    "sorted(cat.datasets)[:5]"
   ]
  },
  {
   "cell_type": "markdown",
   "metadata": {},
   "source": [
    "Much better. Now what we really want is the most recent file, which will be the last one in the list. We can pull that out, and use its name to get the actual Python Dataset object:"
   ]
  },
  {
   "cell_type": "code",
   "execution_count": 4,
   "metadata": {
    "collapsed": false
   },
   "outputs": [
    {
     "name": "stdout",
     "output_type": "stream",
     "text": [
      "<siphon.catalog.Dataset object at 0x10810a240>\n"
     ]
    }
   ],
   "source": [
    "dataset_name = sorted(cat.datasets.keys())[-1]\n",
    "dataset = cat.datasets[dataset_name]\n",
    "print(dataset)"
   ]
  },
  {
   "cell_type": "markdown",
   "metadata": {},
   "source": [
    "The `catalog.Dataset` class provides access to a lot of information about a dataset, like metadata (e.g. time range, spatial extent). What we want most however, is to know how to access the data. This is provided by the `dataset.access_urls` attribute:"
   ]
  },
  {
   "cell_type": "code",
   "execution_count": 5,
   "metadata": {
    "collapsed": false
   },
   "outputs": [
    {
     "data": {
      "text/plain": [
       "{'CdmRemote': 'http://thredds.ucar.edu/thredds/cdmremote/satellite/WV/EAST-CONUS_4km/current/EAST-CONUS_4km_WV_20160128_2115.gini',\n",
       " 'HTTPServer': 'http://thredds.ucar.edu/thredds/fileServer/satellite/WV/EAST-CONUS_4km/current/EAST-CONUS_4km_WV_20160128_2115.gini',\n",
       " 'ISO': 'http://thredds.ucar.edu/thredds/iso/satellite/WV/EAST-CONUS_4km/current/EAST-CONUS_4km_WV_20160128_2115.gini',\n",
       " 'NCML': 'http://thredds.ucar.edu/thredds/ncml/satellite/WV/EAST-CONUS_4km/current/EAST-CONUS_4km_WV_20160128_2115.gini',\n",
       " 'NetcdfSubset': 'http://thredds.ucar.edu/thredds/ncss/satellite/WV/EAST-CONUS_4km/current/EAST-CONUS_4km_WV_20160128_2115.gini',\n",
       " 'OPENDAP': 'http://thredds.ucar.edu/thredds/dodsC/satellite/WV/EAST-CONUS_4km/current/EAST-CONUS_4km_WV_20160128_2115.gini',\n",
       " 'UDDC': 'http://thredds.ucar.edu/thredds/uddc/satellite/WV/EAST-CONUS_4km/current/EAST-CONUS_4km_WV_20160128_2115.gini',\n",
       " 'WCS': 'http://thredds.ucar.edu/thredds/wcs/satellite/WV/EAST-CONUS_4km/current/EAST-CONUS_4km_WV_20160128_2115.gini',\n",
       " 'WMS': 'http://thredds.ucar.edu/thredds/wms/satellite/WV/EAST-CONUS_4km/current/EAST-CONUS_4km_WV_20160128_2115.gini'}"
      ]
     },
     "execution_count": 5,
     "metadata": {},
     "output_type": "execute_result"
    }
   ],
   "source": [
    "dataset.access_urls"
   ]
  },
  {
   "cell_type": "markdown",
   "metadata": {},
   "source": [
    "These different urls provide access to the data in different ways; some support different protocols (like OPeNDAP or CDMRemote), others allow harvesting metadata (e.g. ISO). We're going to start simple, so we want to use the `HTTPServer` method, which allows downloading the datafile using HTTP. (Other data access methods will be the subject of future posts.) We can take this URL and pass it to the `urlopen` function from the `urllib.request` module in Python's standard library. This gives us a Python file-like object, which for the most part we can treat just like a file we opened locally."
   ]
  },
  {
   "cell_type": "code",
   "execution_count": 6,
   "metadata": {
    "collapsed": false
   },
   "outputs": [],
   "source": [
    "from urllib.request import urlopen\n",
    "remote_gini_file = urlopen(dataset.access_urls['HTTPServer'])"
   ]
  },
  {
   "cell_type": "markdown",
   "metadata": {},
   "source": [
    "## Parsing the data"
   ]
  },
  {
   "cell_type": "markdown",
   "metadata": {},
   "source": [
    "Now that we have this file-like object, we could certainly `read()` data and parse it by hand or save to disk, but that's too much work. Instead, we will use MetPy's support for reading GINI files by importing the `GiniFile` class, and passing it the file-like object:"
   ]
  },
  {
   "cell_type": "code",
   "execution_count": 7,
   "metadata": {
    "collapsed": false
   },
   "outputs": [
    {
     "name": "stdout",
     "output_type": "stream",
     "text": [
      "GiniFile: GOES-13 East CONUS WV (6.5/6.7 micron)\n",
      "\tTime: 2016-01-28 21:15:18\n",
      "\tSize: 1280x1280\n",
      "\tProjection: lambert_conformal\n",
      "\tLower Left Corner (Lon, Lat): (-113.1333, 16.3691)\n",
      "\tResolution: 4km\n"
     ]
    }
   ],
   "source": [
    "from metpy.io.gini import GiniFile\n",
    "gini = GiniFile(remote_gini_file)\n",
    "print(gini)"
   ]
  },
  {
   "cell_type": "markdown",
   "metadata": {},
   "source": [
    "`GiniFile` was able to successfully parse the data and we see (as expected) that we have a 4km CONUS water vapor image from GOES-13 East. While `GiniFile` itself provides a low-level interface to all the information in the file (useful if checking to see if the file was parsed correctly), we don't need the low level details. Fortunately, the `to_dataset()` method can convert the data into a form that resembles the `Dataset` object from [netCDF4-python](https://unidata.github.io/netcdf4-python/)."
   ]
  },
  {
   "cell_type": "code",
   "execution_count": 8,
   "metadata": {
    "collapsed": false
   },
   "outputs": [
    {
     "name": "stdout",
     "output_type": "stream",
     "text": [
      "root\n",
      "\n",
      "Dimensions:\n",
      "<class 'metpy.io.cdm.Dimension'>: name = time, size = 1\n",
      "<class 'metpy.io.cdm.Dimension'>: name = x, size = 1280\n",
      "<class 'metpy.io.cdm.Dimension'>: name = y, size = 1280\n",
      "\n",
      "Variables:\n",
      "<class 'metpy.io.cdm.Variable'>: int32 time(time)\n",
      "\tunits: milliseconds since 2016-01-28T00:00:00\n",
      "\tshape = 1\n",
      "<class 'metpy.io.cdm.Variable'>: int32 Lambert_Conformal()\n",
      "\tgrid_mapping_name: lambert_conformal_conic\n",
      "\tstandard_parallel: 25.0\n",
      "\tlongitude_of_central_meridian: -95.0\n",
      "\tlatitude_of_projection_origin: 25.0\n",
      "\tearth_radius: 6371200.0\n",
      "<class 'metpy.io.cdm.Variable'>: float64 x(x)\n",
      "\tunits: m\n",
      "\tlong_name: x coordinate of projection\n",
      "\tstandard_name: projection_x_coordinate\n",
      "\tshape = 1280\n",
      "<class 'metpy.io.cdm.Variable'>: float64 y(y)\n",
      "\tunits: m\n",
      "\tlong_name: y coordinate of projection\n",
      "\tstandard_name: projection_y_coordinate\n",
      "\tshape = 1280\n",
      "<class 'metpy.io.cdm.Variable'>: float64 lon(y, x)\n",
      "\tlong_name: longitude\n",
      "\tunits: degrees_east\n",
      "\tshape = (1280, 1280)\n",
      "<class 'metpy.io.cdm.Variable'>: float64 lat(y, x)\n",
      "\tlong_name: latitude\n",
      "\tunits: degrees_north\n",
      "\tshape = (1280, 1280)\n",
      "<class 'metpy.io.cdm.Variable'>: uint8 WV(y, x)\n",
      "\tlong_name: WV (6.5/6.7 micron)\n",
      "\tmissing_value: 255\n",
      "\tcoordinates: y x\n",
      "\tgrid_mapping: Lambert_Conformal\n",
      "\tshape = (1280, 1280)\n",
      "\n",
      "Attributes:\n",
      "\tsatellite: GOES-13\n",
      "\tsector: East CONUS\n"
     ]
    }
   ],
   "source": [
    "gini_ds = gini.to_dataset()\n",
    "print(gini_ds)"
   ]
  },
  {
   "cell_type": "markdown",
   "metadata": {},
   "source": [
    "Or, we can take the `gini_ds.variables` attribute, which is a dictionary, and look at the `keys()` to see what's in the file:"
   ]
  },
  {
   "cell_type": "code",
   "execution_count": 9,
   "metadata": {
    "collapsed": false
   },
   "outputs": [
    {
     "data": {
      "text/plain": [
       "['time', 'Lambert_Conformal', 'x', 'y', 'lon', 'lat', 'WV']"
      ]
     },
     "execution_count": 9,
     "metadata": {},
     "output_type": "execute_result"
    }
   ],
   "source": [
    "list(gini_ds.variables.keys())"
   ]
  },
  {
   "cell_type": "markdown",
   "metadata": {},
   "source": [
    "From here, we can pull out the 'WV' variable, which contains the data we want:"
   ]
  },
  {
   "cell_type": "code",
   "execution_count": 10,
   "metadata": {
    "collapsed": false
   },
   "outputs": [
    {
     "name": "stdout",
     "output_type": "stream",
     "text": [
      "<class 'metpy.io.cdm.Variable'>: uint8 WV(y, x)\n",
      "\tlong_name: WV (6.5/6.7 micron)\n",
      "\tmissing_value: 255\n",
      "\tcoordinates: y x\n",
      "\tgrid_mapping: Lambert_Conformal\n",
      "\tshape = (1280, 1280)\n"
     ]
    }
   ],
   "source": [
    "print(gini_ds.variables['WV'])"
   ]
  },
  {
   "cell_type": "markdown",
   "metadata": {},
   "source": [
    "We'll stop here for now (to keep this in an easily-digestible chunk). Part 2 will cover plotting this imagery, including pulling all the needed information from the file and setting up CartoPy (and its projections)."
   ]
  },
  {
   "cell_type": "markdown",
   "metadata": {},
   "source": [
    "### Additional resources\n",
    "- [MetPy Documentation](http://metpy.readthedocs.org)\n",
    "- [Siphon Documentation](http://siphon.readthedocs.org)\n",
    "- [Unidata Blog Notebooks](http://github.com/Unidata/blog-notebooks) ([View Here](http://nbviewer.jupyter.org/github/unidata/blog-notebooks/tree/master/notebooks/))\n",
    "- [Notebooks](http://github.com/Unidata/unidata-python-workshop) from Unidata's Annual Python Training Workshop"
   ]
  },
  {
   "cell_type": "markdown",
   "metadata": {},
   "source": [
    "Was this too much detail? Too slow? Just right? Do you have suggestions on other topics or examples we should cover? Do you have a notebook you would like us to show off? We'd love to have your feedback. You can send a message to the (python-users AT unidata.ucar.edu) [mailing list](https://www.unidata.ucar.edu/support/#mailinglists) or send a message to support-python AT unidata.ucar.edu. You can also leave a comment below, directly on the blog post."
   ]
  }
 ],
 "metadata": {
  "kernelspec": {
   "display_name": "Python 3",
   "language": "python",
   "name": "python3"
  },
  "language_info": {
   "codemirror_mode": {
    "name": "ipython",
    "version": 3
   },
   "file_extension": ".py",
   "mimetype": "text/x-python",
   "name": "python",
   "nbconvert_exporter": "python",
   "pygments_lexer": "ipython3",
   "version": "3.4.3"
  }
 },
 "nbformat": 4,
 "nbformat_minor": 0
}
